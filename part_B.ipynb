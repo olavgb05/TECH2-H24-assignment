{
 "cells": [
  {
   "cell_type": "markdown",
   "metadata": {},
   "source": [
    "# TECH 2 mandatory assignment - Part B\n",
    "\n",
    "Write your solution for Part B in this notebook."
   ]
  },
  {
   "cell_type": "markdown",
   "metadata": {},
   "source": [
    "# Solution"
   ]
  },
  {
   "cell_type": "markdown",
   "metadata": {},
   "source": [
    "\n",
    "Importing modules:"
   ]
  },
  {
   "cell_type": "code",
   "execution_count": 62,
   "metadata": {},
   "outputs": [],
   "source": [
    "import pandas as pd                         # Importing the pandas module from the Anaconda environment\n",
    "from part_A import std_loops, std_builtin   # Importing the functions created in part A\n",
    "import numpy as np                          # Importing the numpy module from the Anaconda environment"
   ]
  },
  {
   "cell_type": "markdown",
   "metadata": {},
   "source": [
    "Importing the data from the file data.csv:"
   ]
  },
  {
   "cell_type": "code",
   "execution_count": 63,
   "metadata": {},
   "outputs": [],
   "source": [
    "ds = pd.read_csv(\"data.csv\", header = None)     # Using the function read_csv from the pandas module to read the dataset\n",
    "                                                # The columns in the file has no header, and should not skip the first row.\n",
    "\n",
    "c1 = ds.iloc[:, 0].tolist()                     # Importing column 1 in a list called c1\n",
    "c2 = ds.iloc[:, 1].tolist()                     # Importing column 2 in a list called c2\n",
    "c3 = ds.iloc[:, 2].tolist()                     # Importing column 3 in a list called c3"
   ]
  },
  {
   "cell_type": "markdown",
   "metadata": {},
   "source": [
    "# Approach 1\n",
    "Computing the standard deviation of a sequence of 100 numbers (column 1 in the file data.csv) and recording the run-time"
   ]
  },
  {
   "cell_type": "code",
   "execution_count": 64,
   "metadata": {},
   "outputs": [
    {
     "name": "stdout",
     "output_type": "stream",
     "text": [
      "0.2801377861677587\n",
      "12.1 μs ± 540 ns per loop (mean ± std. dev. of 7 runs, 100,000 loops each)\n"
     ]
    }
   ],
   "source": [
    "# Computing the standard deviation using loops\n",
    "print(std_loops(c1[0:99]))\n",
    "%timeit (std_loops(c1[0:99]))\n"
   ]
  },
  {
   "cell_type": "code",
   "execution_count": 65,
   "metadata": {},
   "outputs": [
    {
     "name": "stdout",
     "output_type": "stream",
     "text": [
      "0.2801377861677587\n",
      "10.9 μs ± 461 ns per loop (mean ± std. dev. of 7 runs, 100,000 loops each)\n"
     ]
    }
   ],
   "source": [
    "# Computing the standard deviation using the built-in functions sum() and len()\n",
    "print(std_builtin(c1[0:99]))\n",
    "%timeit (std_builtin(c1[0:99]))"
   ]
  },
  {
   "cell_type": "code",
   "execution_count": 66,
   "metadata": {},
   "outputs": [
    {
     "name": "stdout",
     "output_type": "stream",
     "text": [
      "0.28013778616775875\n",
      "29 μs ± 566 ns per loop (mean ± std. dev. of 7 runs, 10,000 loops each)\n"
     ]
    }
   ],
   "source": [
    "# Computing the standard deviation using the function std() from NumPy\n",
    "print(np.std(c1[0:99]))\n",
    "%timeit (np.std(c1[0:99]))"
   ]
  },
  {
   "cell_type": "markdown",
   "metadata": {},
   "source": [
    "# Approach 2\n",
    "Computing the standard deviation of a sequence of 1000 numbers (column 2 in the file data.csv) and recording the run-time"
   ]
  },
  {
   "cell_type": "code",
   "execution_count": 67,
   "metadata": {},
   "outputs": [
    {
     "name": "stdout",
     "output_type": "stream",
     "text": [
      "0.28479994653916385\n",
      "118 μs ± 717 ns per loop (mean ± std. dev. of 7 runs, 10,000 loops each)\n"
     ]
    }
   ],
   "source": [
    "# Computing the standard deviation using loops\n",
    "print(std_loops(c2[0:999]))\n",
    "%timeit (std_loops(c2[0:999]))"
   ]
  },
  {
   "cell_type": "code",
   "execution_count": 68,
   "metadata": {},
   "outputs": [
    {
     "name": "stdout",
     "output_type": "stream",
     "text": [
      "0.28479994653916435\n",
      "102 μs ± 1.57 μs per loop (mean ± std. dev. of 7 runs, 10,000 loops each)\n"
     ]
    }
   ],
   "source": [
    "# Computing the standard deviation using the built-in functions sum() and len()\n",
    "print(std_builtin(c2[0:999]))\n",
    "%timeit (std_builtin(c2[0:999]))"
   ]
  },
  {
   "cell_type": "code",
   "execution_count": 69,
   "metadata": {},
   "outputs": [
    {
     "name": "stdout",
     "output_type": "stream",
     "text": [
      "0.28479994653916435\n",
      "78.2 μs ± 999 ns per loop (mean ± std. dev. of 7 runs, 10,000 loops each)\n"
     ]
    }
   ],
   "source": [
    "# Computing the standard deviation using the function std() from NumPy\n",
    "print(np.std(c2[0:999]))\n",
    "%timeit (np.std(c2[0:999]))"
   ]
  },
  {
   "cell_type": "markdown",
   "metadata": {},
   "source": [
    "# Approach 3\n",
    "Computing the standard deviation of a sequence of 10000 numbers (column 3 in the file data.csv) and recording the run-time"
   ]
  },
  {
   "cell_type": "code",
   "execution_count": 70,
   "metadata": {},
   "outputs": [
    {
     "name": "stdout",
     "output_type": "stream",
     "text": [
      "0.2854175030671726\n",
      "1.2 ms ± 8.72 μs per loop (mean ± std. dev. of 7 runs, 1,000 loops each)\n"
     ]
    }
   ],
   "source": [
    "# Computing the standard deviation using loops\n",
    "print(std_loops(c3[0:9999]))\n",
    "%timeit (std_loops(c3[0:9999]))"
   ]
  },
  {
   "cell_type": "code",
   "execution_count": 71,
   "metadata": {},
   "outputs": [
    {
     "name": "stdout",
     "output_type": "stream",
     "text": [
      "0.2854175030671727\n",
      "983 μs ± 7.53 μs per loop (mean ± std. dev. of 7 runs, 1,000 loops each)\n"
     ]
    }
   ],
   "source": [
    "# Computing the standard deviation using the built-in functions sum() and len()\n",
    "print(std_builtin(c3[0:9999]))\n",
    "%timeit (std_builtin(c3[0:9999]))"
   ]
  },
  {
   "cell_type": "code",
   "execution_count": 72,
   "metadata": {},
   "outputs": [
    {
     "name": "stdout",
     "output_type": "stream",
     "text": [
      "0.2854175030671725\n",
      "525 μs ± 9.07 μs per loop (mean ± std. dev. of 7 runs, 1,000 loops each)\n"
     ]
    }
   ],
   "source": [
    "# Computing the standard deviation using the function std() from NumPy\n",
    "print(np.std(c3[0:9999]))\n",
    "%timeit (np.std(c3[0:9999]))"
   ]
  },
  {
   "cell_type": "markdown",
   "metadata": {},
   "source": [
    "# Conclusion\n",
    "Computing the standard deviation using the built-in is on all three approaches marginally faster than computing using loops. In the first approach, with a sequence of a 100 numbers, the NumPy function is the slowest by quite the margin. However, in the last approach with a sequence of a 10000 numbers, we see that the NumPy function proved to be the fastest. Therefore, the conclusion is that computing the standard deviation using loops and built-in fuctions sum() and len() is faster for smaller dataset, but the NumPy function outperforms the two other approaches with larger datasets. \n",
    "\n",
    "The reason for this may be that the NumPy function converts the data into its own optimized data structures. For smaller datasets, this is unnecessary, because it is faster to use loops or the built in functions. The benefit of using NumPy becomes apparent when having larger datasets, as looping over large data takes time. It is therefore more efficient to convert the data, as the NumPy function does."
   ]
  }
 ],
 "metadata": {
  "kernelspec": {
   "display_name": "TECH2-assignment",
   "language": "python",
   "name": "python3"
  },
  "language_info": {
   "codemirror_mode": {
    "name": "ipython",
    "version": 3
   },
   "file_extension": ".py",
   "mimetype": "text/x-python",
   "name": "python",
   "nbconvert_exporter": "python",
   "pygments_lexer": "ipython3",
   "version": "3.12.6"
  }
 },
 "nbformat": 4,
 "nbformat_minor": 2
}
